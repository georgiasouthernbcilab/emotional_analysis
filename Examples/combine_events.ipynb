{
 "cells": [
  {
   "cell_type": "code",
   "execution_count": 15,
   "metadata": {},
   "outputs": [
    {
     "name": "stdout",
     "output_type": "stream",
     "text": [
      "Extracting EDF parameters from e:\\WEBSITE\\EDF_analysis\\EDF+\\Zacker\\Zacker.edf...\n",
      "EDF file detected\n",
      "Setting channel info structure...\n",
      "Creating raw.info structure...\n",
      "Reading 0 ... 139775  =      0.000 ...  1091.992 secs...\n",
      "Raw data loaded. Number of channels: 127, Sampling frequency: 128.0 Hz\n",
      "NOTE: pick_channels() is a legacy function. New code should use inst.pick(...).\n",
      "Selected EEG channels: ['Cz', 'Fz', 'Fp1', 'F7', 'F3', 'FC1', 'C3', 'FC5', 'FT9', 'T7', 'CP5', 'CP1', 'P3', 'P7', 'PO9', 'O1', 'Pz', 'Oz', 'O2', 'PO10', 'P8', 'P4', 'CP2', 'CP6', 'T8', 'FT10', 'FC6', 'C4', 'FC2', 'F4', 'F8', 'Fp2']\n",
      "Standard 10-20 montage applied.\n",
      "EEG channel type selected for re-referencing\n",
      "Adding average EEG reference projection.\n",
      "1 projection items deactivated\n",
      "Average reference projection was added, but has not been applied yet. Use the apply_proj method to apply it.\n",
      "Filtering raw data in 1 contiguous segment\n",
      "Setting up band-pass filter from 1 - 40 Hz\n",
      "\n",
      "FIR filter parameters\n",
      "---------------------\n",
      "Designing a one-pass, zero-phase, non-causal bandpass filter:\n",
      "- Windowed time-domain design (firwin) method\n",
      "- Hamming window with 0.0194 passband ripple and 53 dB stopband attenuation\n",
      "- Lower passband edge: 1.00\n",
      "- Lower transition bandwidth: 1.00 Hz (-6 dB cutoff frequency: 0.50 Hz)\n",
      "- Upper passband edge: 40.00 Hz\n",
      "- Upper transition bandwidth: 10.00 Hz (-6 dB cutoff frequency: 45.00 Hz)\n",
      "- Filter length: 423 samples (3.305 s)\n",
      "\n",
      "Applied average reference and band-pass filter (1 - 40 Hz).\n",
      "Filtering raw data in 1 contiguous segment\n",
      "Setting up band-pass filter from 1 - 63 Hz\n",
      "\n",
      "FIR filter parameters\n",
      "---------------------\n",
      "Designing a one-pass, zero-phase, non-causal bandpass filter:\n",
      "- Windowed time-domain design (firwin) method\n",
      "- Hamming window with 0.0194 passband ripple and 53 dB stopband attenuation\n",
      "- Lower passband edge: 1.00\n",
      "- Lower transition bandwidth: 1.00 Hz (-6 dB cutoff frequency: 0.50 Hz)\n",
      "- Upper passband edge: 63.00 Hz\n",
      "- Upper transition bandwidth: 1.00 Hz (-6 dB cutoff frequency: 63.50 Hz)\n",
      "- Filter length: 423 samples (3.305 s)\n"
     ]
    },
    {
     "name": "stderr",
     "output_type": "stream",
     "text": [
      "[Parallel(n_jobs=1)]: Done  17 tasks      | elapsed:    0.0s\n"
     ]
    },
    {
     "name": "stdout",
     "output_type": "stream",
     "text": [
      "\n"
     ]
    },
    {
     "name": "stderr",
     "output_type": "stream",
     "text": [
      "[Parallel(n_jobs=1)]: Done  17 tasks      | elapsed:    0.0s\n"
     ]
    },
    {
     "name": "stdout",
     "output_type": "stream",
     "text": [
      "Setting up low-pass filter at 4 Hz\n",
      "\n",
      "FIR filter parameters\n",
      "---------------------\n",
      "Designing a one-pass, zero-phase, non-causal lowpass filter:\n",
      "- Windowed time-domain design (firwin) method\n",
      "- Hamming window with 0.0194 passband ripple and 53 dB stopband attenuation\n",
      "- Upper passband edge: 4.00 Hz\n",
      "- Upper transition bandwidth: 2.00 Hz (-6 dB cutoff frequency: 5.00 Hz)\n",
      "- Filter length: 213 samples (1.664 s)\n",
      "\n"
     ]
    },
    {
     "ename": "TypeError",
     "evalue": "Annotations.append() missing 2 required positional arguments: 'duration' and 'description'",
     "output_type": "error",
     "traceback": [
      "\u001b[1;31m---------------------------------------------------------------------------\u001b[0m",
      "\u001b[1;31mTypeError\u001b[0m                                 Traceback (most recent call last)",
      "Cell \u001b[1;32mIn[15], line 33\u001b[0m\n\u001b[0;32m     24\u001b[0m threshold_muscle \u001b[38;5;241m=\u001b[39m \u001b[38;5;241m5\u001b[39m  \u001b[38;5;66;03m# z-score\u001b[39;00m\n\u001b[0;32m     25\u001b[0m annot_muscle, scores_muscle \u001b[38;5;241m=\u001b[39m mne\u001b[38;5;241m.\u001b[39mpreprocessing\u001b[38;5;241m.\u001b[39mannotate_muscle_zscore(\n\u001b[0;32m     26\u001b[0m     raw,\n\u001b[0;32m     27\u001b[0m     ch_type\u001b[38;5;241m=\u001b[39m\u001b[38;5;124m\"\u001b[39m\u001b[38;5;124meeg\u001b[39m\u001b[38;5;124m\"\u001b[39m,\n\u001b[1;32m   (...)\u001b[0m\n\u001b[0;32m     30\u001b[0m     filter_freq\u001b[38;5;241m=\u001b[39m[\u001b[38;5;241m1\u001b[39m, \u001b[38;5;241m63\u001b[39m],\n\u001b[0;32m     31\u001b[0m )\n\u001b[1;32m---> 33\u001b[0m \u001b[43mraw\u001b[49m\u001b[38;5;241;43m.\u001b[39;49m\u001b[43mannotations\u001b[49m\u001b[38;5;241;43m.\u001b[39;49m\u001b[43mappend\u001b[49m\u001b[43m(\u001b[49m\u001b[43mannot_muscle\u001b[49m\u001b[43m)\u001b[49m\n",
      "\u001b[1;31mTypeError\u001b[0m: Annotations.append() missing 2 required positional arguments: 'duration' and 'description'"
     ]
    }
   ],
   "source": [
    "import mne\n",
    "import numpy as np\n",
    "import matplotlib.pyplot as plt\n",
    "\n",
    "# Read your EDF file\n",
    "raw = mne.io.read_raw_edf(r'EDF+\\Zacker\\Zacker.edf', preload=True, verbose=True, infer_types=True)\n",
    "print(f\"Raw data loaded. Number of channels: {len(raw.ch_names)}, Sampling frequency: {raw.info['sfreq']} Hz\")\n",
    "\n",
    "# Select EEG channels\n",
    "eeg_channels = ['Cz', 'Fz', 'Fp1', 'F7', 'F3', 'FC1', 'C3', 'FC5', 'FT9', 'T7', 'CP5', 'CP1', 'P3', 'P7', 'PO9', 'O1', 'Pz', 'Oz', 'O2', 'PO10', 'P8', 'P4', 'CP2', 'CP6', 'T8', 'FT10', 'FC6', 'C4', 'FC2', 'F4', 'F8', 'Fp2']\n",
    "raw.pick_channels(eeg_channels)\n",
    "print(f\"Selected EEG channels: {eeg_channels}\")\n",
    "\n",
    "# Set montage\n",
    "montage = mne.channels.make_standard_montage('standard_1020')\n",
    "raw.set_montage(montage, on_missing='ignore')\n",
    "print(\"Standard 10-20 montage applied.\")\n",
    "\n",
    "# Apply preprocessing steps\n",
    "raw.set_eeg_reference('average', projection=True)\n",
    "raw.filter(l_freq=1, h_freq=40)\n",
    "print(\"Applied average reference and band-pass filter (1 - 40 Hz).\")\n",
    "\n",
    "threshold_muscle = 5  # z-score\n",
    "annot_muscle, scores_muscle = mne.preprocessing.annotate_muscle_zscore(\n",
    "    raw,\n",
    "    ch_type=\"eeg\",\n",
    "    threshold=threshold_muscle,\n",
    "    min_length_good=0.2,\n",
    "    filter_freq=[1, 63],\n",
    ")\n",
    "\n",
    "raw.annotations.append(annot_muscle)"
   ]
  },
  {
   "cell_type": "code",
   "execution_count": 10,
   "metadata": {},
   "outputs": [
    {
     "name": "stdout",
     "output_type": "stream",
     "text": [
      "_annotations\n",
      "_cals\n",
      "_check_bad_segment\n",
      "_comp\n",
      "_cropped_samp\n",
      "_data\n",
      "_dtype\n",
      "_dtype_\n",
      "_extra_attributes\n",
      "_filenames\n",
      "_first_samps\n",
      "_first_time\n",
      "_get_buffer_size\n",
      "_get_channel_positions\n",
      "_getitem\n",
      "_handle_tmin_tmax\n",
      "_init_kwargs\n",
      "_last_samps\n",
      "_last_time\n",
      "_orig_units\n",
      "_parse_get_set_params\n",
      "_pick_drop_channels\n",
      "_pick_projs\n",
      "_preload_data\n",
      "_projector\n",
      "_projectors\n",
      "_raw_extras\n",
      "_raw_lengths\n",
      "_read_comp_grade\n",
      "_read_picks\n",
      "_read_segment\n",
      "_read_segment_file\n",
      "_reconstruct_proj\n",
      "_repr_html_\n",
      "_set_channel_positions\n",
      "_set_legacy_nfft_default\n",
      "_set_times\n",
      "_size\n",
      "_tmin_tmax_to_start_stop\n",
      "add_channels\n",
      "add_events\n",
      "add_proj\n",
      "add_reference_channels\n",
      "annotations\n",
      "anonymize\n",
      "append\n",
      "apply_function\n",
      "apply_gradient_compensation\n",
      "apply_hilbert\n",
      "apply_proj\n",
      "buffer_size_sec\n",
      "ch_names\n",
      "close\n",
      "compensation_grade\n",
      "compute_psd\n",
      "compute_tfr\n",
      "copy\n",
      "crop\n",
      "crop_by_annotations\n",
      "del_proj\n",
      "describe\n",
      "drop_channels\n",
      "export\n",
      "filenames\n",
      "filter\n",
      "first_samp\n",
      "first_time\n",
      "get_channel_types\n",
      "get_data\n",
      "get_montage\n",
      "info\n",
      "interpolate_bads\n",
      "last_samp\n",
      "load_bad_channels\n",
      "load_data\n",
      "n_times\n",
      "notch_filter\n",
      "orig_format\n",
      "pick\n",
      "pick_channels\n",
      "pick_types\n",
      "plot\n",
      "plot_projs_topomap\n",
      "plot_psd\n",
      "plot_psd_topo\n",
      "plot_psd_topomap\n",
      "plot_sensors\n",
      "preload\n",
      "proj\n",
      "rename_channels\n",
      "reorder_channels\n",
      "resample\n",
      "save\n",
      "savgol_filter\n",
      "set_annotations\n",
      "set_channel_types\n",
      "set_eeg_reference\n",
      "set_meas_date\n",
      "set_montage\n",
      "time_as_index\n",
      "times\n",
      "to_data_frame\n"
     ]
    }
   ],
   "source": [
    "for i in dir(raw):\n",
    "    if'__' in i:\n",
    "        continue\n",
    "    print(i)"
   ]
  },
  {
   "cell_type": "code",
   "execution_count": 11,
   "metadata": {},
   "outputs": [
    {
     "name": "stdout",
     "output_type": "stream",
     "text": [
      "_any_ch_names\n",
      "_orig_time\n",
      "_prune_ch_names\n",
      "_sort\n",
      "append\n",
      "ch_names\n",
      "copy\n",
      "count\n",
      "crop\n",
      "delete\n",
      "description\n",
      "duration\n",
      "onset\n",
      "orig_time\n",
      "rename\n",
      "save\n",
      "set_durations\n",
      "to_data_frame\n"
     ]
    }
   ],
   "source": [
    "for i in dir(raw.annotations):\n",
    "    if'__' in i:\n",
    "        continue\n",
    "    print(i)"
   ]
  },
  {
   "cell_type": "code",
   "execution_count": 7,
   "metadata": {},
   "outputs": [
    {
     "name": "stdout",
     "output_type": "stream",
     "text": [
      "<Annotations | 24 segments: neutralVideo,neutralVideo,-1,12 (1), ...>\n"
     ]
    }
   ],
   "source": [
    "print(raw.annotations)"
   ]
  },
  {
   "cell_type": "code",
   "execution_count": 12,
   "metadata": {},
   "outputs": [
    {
     "name": "stdout",
     "output_type": "stream",
     "text": [
      "Filtering raw data in 1 contiguous segment\n",
      "Setting up band-pass filter from 1 - 63 Hz\n",
      "\n",
      "FIR filter parameters\n",
      "---------------------\n",
      "Designing a one-pass, zero-phase, non-causal bandpass filter:\n",
      "- Windowed time-domain design (firwin) method\n",
      "- Hamming window with 0.0194 passband ripple and 53 dB stopband attenuation\n",
      "- Lower passband edge: 1.00\n",
      "- Lower transition bandwidth: 1.00 Hz (-6 dB cutoff frequency: 0.50 Hz)\n",
      "- Upper passband edge: 63.00 Hz\n",
      "- Upper transition bandwidth: 1.00 Hz (-6 dB cutoff frequency: 63.50 Hz)\n",
      "- Filter length: 423 samples (3.305 s)\n",
      "\n"
     ]
    },
    {
     "name": "stderr",
     "output_type": "stream",
     "text": [
      "[Parallel(n_jobs=1)]: Done  17 tasks      | elapsed:    0.0s\n"
     ]
    },
    {
     "name": "stdout",
     "output_type": "stream",
     "text": [
      "Setting up low-pass filter at 4 Hz\n",
      "\n",
      "FIR filter parameters\n",
      "---------------------\n",
      "Designing a one-pass, zero-phase, non-causal lowpass filter:\n",
      "- Windowed time-domain design (firwin) method\n",
      "- Hamming window with 0.0194 passband ripple and 53 dB stopband attenuation\n",
      "- Upper passband edge: 4.00 Hz\n",
      "- Upper transition bandwidth: 2.00 Hz (-6 dB cutoff frequency: 5.00 Hz)\n",
      "- Filter length: 213 samples (1.664 s)\n",
      "\n"
     ]
    }
   ],
   "source": [
    "threshold_muscle = 5  # z-score\n",
    "annot_muscle, scores_muscle = mne.preprocessing.annotate_muscle_zscore(\n",
    "    raw,\n",
    "    ch_type=\"eeg\",\n",
    "    threshold=threshold_muscle,\n",
    "    min_length_good=0.2,\n",
    "    filter_freq=[1, 63],\n",
    ")"
   ]
  },
  {
   "cell_type": "code",
   "execution_count": 14,
   "metadata": {},
   "outputs": [
    {
     "name": "stdout",
     "output_type": "stream",
     "text": [
      "Filtering raw data in 1 contiguous segment\n",
      "Setting up band-pass filter from 1 - 63 Hz\n",
      "\n",
      "FIR filter parameters\n",
      "---------------------\n",
      "Designing a one-pass, zero-phase, non-causal bandpass filter:\n",
      "- Windowed time-domain design (firwin) method\n",
      "- Hamming window with 0.0194 passband ripple and 53 dB stopband attenuation\n",
      "- Lower passband edge: 1.00\n",
      "- Lower transition bandwidth: 1.00 Hz (-6 dB cutoff frequency: 0.50 Hz)\n",
      "- Upper passband edge: 63.00 Hz\n",
      "- Upper transition bandwidth: 1.00 Hz (-6 dB cutoff frequency: 63.50 Hz)\n",
      "- Filter length: 423 samples (3.305 s)\n",
      "\n"
     ]
    },
    {
     "name": "stderr",
     "output_type": "stream",
     "text": [
      "[Parallel(n_jobs=1)]: Done  17 tasks      | elapsed:    0.0s\n"
     ]
    },
    {
     "name": "stdout",
     "output_type": "stream",
     "text": [
      "Setting up low-pass filter at 4 Hz\n",
      "\n",
      "FIR filter parameters\n",
      "---------------------\n",
      "Designing a one-pass, zero-phase, non-causal lowpass filter:\n",
      "- Windowed time-domain design (firwin) method\n",
      "- Hamming window with 0.0194 passband ripple and 53 dB stopband attenuation\n",
      "- Upper passband edge: 4.00 Hz\n",
      "- Upper transition bandwidth: 2.00 Hz (-6 dB cutoff frequency: 5.00 Hz)\n",
      "- Filter length: 213 samples (1.664 s)\n",
      "\n"
     ]
    },
    {
     "ename": "TypeError",
     "evalue": "Annotations.append() missing 2 required positional arguments: 'duration' and 'description'",
     "output_type": "error",
     "traceback": [
      "\u001b[1;31m---------------------------------------------------------------------------\u001b[0m",
      "\u001b[1;31mTypeError\u001b[0m                                 Traceback (most recent call last)",
      "Cell \u001b[1;32mIn[14], line 1\u001b[0m\n\u001b[1;32m----> 1\u001b[0m \u001b[43mraw\u001b[49m\u001b[38;5;241;43m.\u001b[39;49m\u001b[43mannotations\u001b[49m\u001b[38;5;241;43m.\u001b[39;49m\u001b[43mappend\u001b[49m\u001b[43m(\u001b[49m\u001b[43mmne\u001b[49m\u001b[38;5;241;43m.\u001b[39;49m\u001b[43mpreprocessing\u001b[49m\u001b[38;5;241;43m.\u001b[39;49m\u001b[43mannotate_muscle_zscore\u001b[49m\u001b[43m(\u001b[49m\n\u001b[0;32m      2\u001b[0m \u001b[43m    \u001b[49m\u001b[43mraw\u001b[49m\u001b[43m,\u001b[49m\n\u001b[0;32m      3\u001b[0m \u001b[43m    \u001b[49m\u001b[43mch_type\u001b[49m\u001b[38;5;241;43m=\u001b[39;49m\u001b[38;5;124;43m\"\u001b[39;49m\u001b[38;5;124;43meeg\u001b[39;49m\u001b[38;5;124;43m\"\u001b[39;49m\u001b[43m,\u001b[49m\n\u001b[0;32m      4\u001b[0m \u001b[43m    \u001b[49m\u001b[43mthreshold\u001b[49m\u001b[38;5;241;43m=\u001b[39;49m\u001b[43mthreshold_muscle\u001b[49m\u001b[43m,\u001b[49m\n\u001b[0;32m      5\u001b[0m \u001b[43m    \u001b[49m\u001b[43mmin_length_good\u001b[49m\u001b[38;5;241;43m=\u001b[39;49m\u001b[38;5;241;43m0.2\u001b[39;49m\u001b[43m,\u001b[49m\n\u001b[0;32m      6\u001b[0m \u001b[43m    \u001b[49m\u001b[43mfilter_freq\u001b[49m\u001b[38;5;241;43m=\u001b[39;49m\u001b[43m[\u001b[49m\u001b[38;5;241;43m1\u001b[39;49m\u001b[43m,\u001b[49m\u001b[43m \u001b[49m\u001b[38;5;241;43m63\u001b[39;49m\u001b[43m]\u001b[49m\u001b[43m,\u001b[49m\n\u001b[0;32m      7\u001b[0m \u001b[43m)\u001b[49m\u001b[43m)\u001b[49m\n",
      "\u001b[1;31mTypeError\u001b[0m: Annotations.append() missing 2 required positional arguments: 'duration' and 'description'"
     ]
    }
   ],
   "source": [
    "raw.annotations.append(annot_muscle)"
   ]
  },
  {
   "cell_type": "code",
   "execution_count": null,
   "metadata": {},
   "outputs": [],
   "source": []
  }
 ],
 "metadata": {
  "kernelspec": {
   "display_name": "Python 3",
   "language": "python",
   "name": "python3"
  },
  "language_info": {
   "codemirror_mode": {
    "name": "ipython",
    "version": 3
   },
   "file_extension": ".py",
   "mimetype": "text/x-python",
   "name": "python",
   "nbconvert_exporter": "python",
   "pygments_lexer": "ipython3",
   "version": "3.12.4"
  }
 },
 "nbformat": 4,
 "nbformat_minor": 2
}
