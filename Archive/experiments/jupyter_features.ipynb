{
 "cells": [
  {
   "cell_type": "markdown",
   "metadata": {},
   "source": [
    "### See basic formatting guidelines here:\n",
    "https://daringfireball.net/projects/markdown/syntax\n",
    "\n",
    "### Basic Formatting:\n",
    "**Bold Text**\n",
    "*Italic Text*\n",
    "~~Strikethrough Text~~\n",
    "\n",
    "### Headers:\n",
    "# Header 1\n",
    "## Header 2\n",
    "### Header 3\n",
    "\n",
    "### Lists:\n",
    "- Item 1\n",
    "- Item 2\n",
    "  - Subitem 1\n",
    "  - Subitem 2\n",
    "\n",
    "### Links:\n",
    "[Google](https://www.google.com)\n",
    "\n",
    "### Images:\n",
    "![Alt Text](URL)\n",
    "\n",
    "\n",
    "### Tables:\n",
    "| Header 1 | Header 2 |\n",
    "|----------|----------|\n",
    "| Cell 1   | Cell 2   |\n",
    "| Cell 3   | Cell 4   |\n",
    "Horizontal Lines:\n",
    "Use three hyphens to make horizontal lines.\n",
    "\n",
    "Inline Code:\n",
    "### Code Blocks:\n",
    "```python\n",
    "def hello_world():\n",
    "    print(\"Hello, World!\")"
   ]
  },
  {
   "cell_type": "markdown",
   "metadata": {},
   "source": [
    "### Tables:\n",
    "| Header 1 | Header 2 |\n",
    "|----------|----------|\n",
    "| Cell 1   | Cell 2   |\n",
    "| Cell 3   | Cell 4   |\n"
   ]
  },
  {
   "cell_type": "code",
   "execution_count": null,
   "metadata": {},
   "outputs": [],
   "source": []
  }
 ],
 "metadata": {
  "language_info": {
   "name": "python"
  }
 },
 "nbformat": 4,
 "nbformat_minor": 2
}
